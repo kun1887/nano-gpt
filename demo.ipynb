{
 "cells": [
  {
   "cell_type": "code",
   "execution_count": 1,
   "metadata": {},
   "outputs": [],
   "source": [
    "import torch\n",
    "import torch.nn as nn\n",
    "import torch.nn.functional as F\n",
    "from model import GPT"
   ]
  },
  {
   "cell_type": "code",
   "execution_count": 3,
   "metadata": {},
   "outputs": [
    {
     "data": {
      "text/plain": [
       "torch.Size([3, 5, 5])"
      ]
     },
     "execution_count": 3,
     "metadata": {},
     "output_type": "execute_result"
    }
   ],
   "source": [
    "wei = torch.randn(3, 5, 5)\n",
    "wei.shape"
   ]
  },
  {
   "cell_type": "code",
   "execution_count": 7,
   "metadata": {},
   "outputs": [],
   "source": [
    "tril = torch.tril(torch.ones(5, 5))"
   ]
  },
  {
   "cell_type": "code",
   "execution_count": 12,
   "metadata": {},
   "outputs": [],
   "source": [
    "wei =wei.masked_fill(tril == 0, float(\"-inf\"))"
   ]
  },
  {
   "cell_type": "code",
   "execution_count": 13,
   "metadata": {},
   "outputs": [
    {
     "data": {
      "text/plain": [
       "tensor([[[1.0000, 0.0000, 0.0000, 0.0000, 0.0000],\n",
       "         [0.5008, 0.4992, 0.0000, 0.0000, 0.0000],\n",
       "         [0.1979, 0.4119, 0.3902, 0.0000, 0.0000],\n",
       "         [0.1724, 0.0359, 0.1038, 0.6878, 0.0000],\n",
       "         [0.0566, 0.0401, 0.0164, 0.8382, 0.0487]],\n",
       "\n",
       "        [[1.0000, 0.0000, 0.0000, 0.0000, 0.0000],\n",
       "         [0.3573, 0.6427, 0.0000, 0.0000, 0.0000],\n",
       "         [0.1295, 0.6928, 0.1777, 0.0000, 0.0000],\n",
       "         [0.0296, 0.4268, 0.1341, 0.4095, 0.0000],\n",
       "         [0.0833, 0.4901, 0.1910, 0.0259, 0.2096]],\n",
       "\n",
       "        [[1.0000, 0.0000, 0.0000, 0.0000, 0.0000],\n",
       "         [0.8537, 0.1463, 0.0000, 0.0000, 0.0000],\n",
       "         [0.3919, 0.3498, 0.2583, 0.0000, 0.0000],\n",
       "         [0.4016, 0.3612, 0.1038, 0.1334, 0.0000],\n",
       "         [0.4200, 0.0988, 0.0754, 0.1748, 0.2309]]])"
      ]
     },
     "execution_count": 13,
     "metadata": {},
     "output_type": "execute_result"
    }
   ],
   "source": [
    "F.softmax(wei, dim=-1)"
   ]
  },
  {
   "cell_type": "code",
   "execution_count": 15,
   "metadata": {},
   "outputs": [
    {
     "data": {
      "text/plain": [
       "torch.Size([3, 10, 5])"
      ]
     },
     "execution_count": 15,
     "metadata": {},
     "output_type": "execute_result"
    }
   ],
   "source": [
    "key = torch.randn(3, 5, 10)\n",
    "query = torch.randn(3, 5, 10)\n",
    "\n",
    "key.transpose(-2, -1).shape"
   ]
  },
  {
   "cell_type": "code",
   "execution_count": 16,
   "metadata": {},
   "outputs": [
    {
     "data": {
      "text/plain": [
       "tensor([0, 1, 2, 3, 4, 5, 6, 7, 8, 9])"
      ]
     },
     "execution_count": 16,
     "metadata": {},
     "output_type": "execute_result"
    }
   ],
   "source": [
    "torch.arange(10)"
   ]
  },
  {
   "cell_type": "code",
   "execution_count": 21,
   "metadata": {},
   "outputs": [
    {
     "data": {
      "text/plain": [
       "tensor([[4, 6, 3, 4, 7],\n",
       "        [7, 4, 5, 9, 6],\n",
       "        [0, 7, 1, 7, 5]])"
      ]
     },
     "execution_count": 21,
     "metadata": {},
     "output_type": "execute_result"
    }
   ],
   "source": [
    "idx = torch.randint(0, 10, (3, 5))\n",
    "idx"
   ]
  },
  {
   "cell_type": "code",
   "execution_count": 28,
   "metadata": {},
   "outputs": [
    {
     "data": {
      "text/plain": [
       "tensor([[4, 6, 3, 4, 7],\n",
       "        [7, 4, 5, 9, 6],\n",
       "        [0, 7, 1, 7, 5]])"
      ]
     },
     "execution_count": 28,
     "metadata": {},
     "output_type": "execute_result"
    }
   ],
   "source": [
    "idx[:, -9:]"
   ]
  },
  {
   "cell_type": "code",
   "execution_count": 2,
   "metadata": {},
   "outputs": [],
   "source": [
    "gpt = GPT()"
   ]
  },
  {
   "cell_type": "code",
   "execution_count": 4,
   "metadata": {},
   "outputs": [
    {
     "data": {
      "text/plain": [
       "tensor([[3, 2, 4, 0, 4, 2, 2, 3, 1, 1, 1]])"
      ]
     },
     "execution_count": 4,
     "metadata": {},
     "output_type": "execute_result"
    }
   ],
   "source": [
    "input = torch.randint(0, 5, (1, 11), dtype=torch.long)\n",
    "input"
   ]
  },
  {
   "cell_type": "code",
   "execution_count": 7,
   "metadata": {},
   "outputs": [
    {
     "data": {
      "text/plain": [
       "tensor([[ 3,  2,  4,  0,  4,  2,  2,  3,  1,  1,  1, 27, 19, 61, 19, 78, 23, 20,\n",
       "         58, 26, 74, 53, 26, 29, 57, 53, 61, 37, 14, 71,  5, 44,  6, 98, 60, 56,\n",
       "          5,  5, 10, 30, 48, 48, 44, 72, 52, 82,  6, 32, 27, 91, 86, 43,  7, 48,\n",
       "         55,  0, 12, 38, 69, 24, 89, 80, 56, 31, 52, 80, 73, 57, 37, 48, 85, 20,\n",
       "         75, 80, 71, 73, 25,  2,  7, 89, 60, 67, 88, 71,  8, 44, 24, 42, 76, 10,\n",
       "         52,  5, 84, 82, 61, 42, 95, 78, 19, 87, 81,  5, 26,  5, 76, 38, 87, 74,\n",
       "         52,  0, 89]])"
      ]
     },
     "execution_count": 7,
     "metadata": {},
     "output_type": "execute_result"
    }
   ],
   "source": [
    "gpt.generate(input, 100)"
   ]
  },
  {
   "cell_type": "code",
   "execution_count": null,
   "metadata": {},
   "outputs": [],
   "source": []
  }
 ],
 "metadata": {
  "kernelspec": {
   "display_name": "lewagon",
   "language": "python",
   "name": "python3"
  },
  "language_info": {
   "codemirror_mode": {
    "name": "ipython",
    "version": 3
   },
   "file_extension": ".py",
   "mimetype": "text/x-python",
   "name": "python",
   "nbconvert_exporter": "python",
   "pygments_lexer": "ipython3",
   "version": "3.10.6"
  }
 },
 "nbformat": 4,
 "nbformat_minor": 2
}
